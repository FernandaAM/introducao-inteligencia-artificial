{
  "nbformat": 4,
  "nbformat_minor": 0,
  "metadata": {
    "colab": {
      "name": "atividades-estatistica-algebra-numpy.ipynb",
      "provenance": [],
      "collapsed_sections": []
    },
    "kernelspec": {
      "name": "python3",
      "display_name": "Python 3"
    },
    "language_info": {
      "name": "python"
    }
  },
  "cells": [
    {
      "cell_type": "markdown",
      "source": [
        "# **Exercícios**\n",
        "\n",
        "**1) Construa e encontre as dimensões e número de elementos da matriz abaixo:**\n",
        "\n",
        "\n",
        "a)\n",
        "$$A  = \\begin{bmatrix}\n",
        "1 & 11 & 7 \\\\\n",
        "2 &  8 & 9\n",
        "\\end{bmatrix}$$\n"
      ],
      "metadata": {
        "id": "GQl91GSmKob3"
      }
    },
    {
      "cell_type": "code",
      "source": [
        "#Resposta:\n",
        "\n",
        "#Construindo da matriz A\n",
        "\n",
        "import numpy as np\n",
        "A = np.array([[1, 11, 7], [2, 8, 9]])\n",
        "\n",
        "print(\"A matriz A é:\\n\", A)"
      ],
      "metadata": {
        "id": "raB28RrJLOai"
      },
      "execution_count": null,
      "outputs": []
    },
    {
      "cell_type": "code",
      "source": [
        "#Encontrando as dimensões e números de elementos da matriz A\n",
        "\n",
        "print(\"** As dimensões da matriz A são \" + str(A.shape) + \" linhas e colunas, respectivamente.\\n\")\n",
        "print(\"** A matriz A possui %s elementos.\" % (A.size))"
      ],
      "metadata": {
        "id": "PhzpkWACMJFc"
      },
      "execution_count": null,
      "outputs": []
    },
    {
      "cell_type": "markdown",
      "source": [
        "**2) Construa a matriz abaixo e exiba na tela. Altere os valores que estão nos índices Linhas e Coluna [1, 2] para 000 e [0,1] para o valor 999.**\n",
        "\n",
        "b)\n",
        "$$B  = \\begin{bmatrix}\n",
        "2 & 1 & 3 \\\\\n",
        "1 & 2 & 5 \\\\\n",
        "13 & 9 & 12\n",
        "\\end{bmatrix}$$"
      ],
      "metadata": {
        "id": "3IZksfphPgMN"
      }
    },
    {
      "cell_type": "code",
      "source": [
        "#Resposta:\n",
        "\n",
        "#Construindo a matriz B\n",
        "\n",
        "B = np.array([[2, 1, 3], [1, 2, 5], [13, 9, 12]])\n",
        "print(\"A matriz B é: \\n\", B)"
      ],
      "metadata": {
        "id": "gmdEWH6dPPgl"
      },
      "execution_count": null,
      "outputs": []
    },
    {
      "cell_type": "code",
      "source": [
        "#Encontrando as dimensões e número de elementos da matriz B\n",
        "\n",
        "print(\"** As dimensões da matriz B são \" + str(B.shape) + \" linhas e colunas, respectivamente.\\n\")\n",
        "print(\"** A matriz B possui %s elementos.\" % (B.size))"
      ],
      "metadata": {
        "id": "XRcMrCVMRKlE"
      },
      "execution_count": null,
      "outputs": []
    },
    {
      "cell_type": "code",
      "source": [
        "#Ao tentar trocar diretamente o valor 000 na posição [1, 2] da matriz aparecerá apenas 0, e os outros dois algarismos são suprimidos.\n",
        "#Tentei contornar isso com esse trecho de código mas não funcionou, porque os outros dois zeros continuam sendo suprimidos na matriz.\n",
        "#O famoso problema do \"zero à esquerda não tem valor\".\n",
        "\n",
        "number = 0\n",
        "str_number = str(number)\n",
        "filled_zero = str_number.zfill(3)\n",
        "print(\"Número preenchido com zeros:\", filled_zero)\n",
        "\n",
        "\n",
        "#Alterando os valores\n",
        "\n",
        "B[1, 2] = filled_zero\n",
        "B[0,1] = 999\n",
        "\n",
        "print(\"\\nA nova matriz B com as modificações é:\\n\", B)"
      ],
      "metadata": {
        "id": "ebFUSn7OSGLx"
      },
      "execution_count": null,
      "outputs": []
    },
    {
      "cell_type": "markdown",
      "source": [
        "**3) Construa a matriz a seguir e crie uma nova matriz D a partir da tranposta de C:**\n",
        "\n",
        "$$C  = \\begin{bmatrix}\n",
        "1 & 4 \\\\\n",
        "2 & 4 \\\\\n",
        "5 & 2\n",
        "\\end{bmatrix}$$"
      ],
      "metadata": {
        "id": "sd1qJwNpbbRM"
      }
    },
    {
      "cell_type": "code",
      "source": [
        "#Resposta:\n",
        "\n",
        "#Construindo a matriz C\n",
        "\n",
        "C = np.array([[1, 4], [2, 4], [5, 2]])\n",
        "print(\"A matriz C é:\\n\", C)"
      ],
      "metadata": {
        "id": "BWATHPP5bwie"
      },
      "execution_count": null,
      "outputs": []
    },
    {
      "cell_type": "code",
      "source": [
        "#Encontrando as dimensões e número de elementos da matriz C\n",
        "\n",
        "print(\"** As dimensões da matriz C são \" + str(C.shape) + \" linhas e colunas, respectivamente.\\n\")\n",
        "print(\"** A matriz C possui %s elementos.\" % (C.size))"
      ],
      "metadata": {
        "id": "_747X54FcIhj"
      },
      "execution_count": null,
      "outputs": []
    },
    {
      "cell_type": "code",
      "source": [
        "#Construindo a matriz D a partir da transposta de C\n",
        "\n",
        "D = C.T\n",
        "\n",
        "print(\"A matriz transposta D é:\\n\", D)"
      ],
      "metadata": {
        "id": "FAQUcahKdAQr"
      },
      "execution_count": null,
      "outputs": []
    },
    {
      "cell_type": "code",
      "source": [
        "#Encontrando as dimensões e número de elementos da matriz D\n",
        "\n",
        "print(\"** As dimensões da matriz D são \" + str(D.shape) + \" linhas e colunas, respectivamente.\\n\")\n",
        "print(\"** A matriz D possui %s elementos.\" % (D.size))"
      ],
      "metadata": {
        "id": "S5bguFJGd5OT"
      },
      "execution_count": null,
      "outputs": []
    },
    {
      "cell_type": "markdown",
      "source": [
        "**4) Complete as sentenças abaixo:**\n",
        "\n",
        "**a)** A direção da diminuição máxima para uma função objetiva f(x) é dada por Gradiente (∇) de uma matriz de derivadas parciais.\n",
        "\n",
        "**b)** O ponto crítico de uma função convexa é garantidamente um **MÍNIMO** global.\n",
        "\n",
        "**c)** A integral **DEFINIDA** de **f**(x) é um número e representa a área abaixo da curva de x = a até x = b. A integral **INDEFINIDA** de f(x) não tem limites e retorna uma função."
      ],
      "metadata": {
        "id": "r-PuUlcLHoEJ"
      }
    }
  ]
}