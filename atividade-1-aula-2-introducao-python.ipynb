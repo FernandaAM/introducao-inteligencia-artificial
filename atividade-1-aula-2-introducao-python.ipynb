{
  "nbformat": 4,
  "nbformat_minor": 0,
  "metadata": {
    "colab": {
      "name": "atividade-1-aula-2-fernanda-marques.ipynb",
      "provenance": []
    },
    "kernelspec": {
      "name": "python3",
      "display_name": "Python 3"
    },
    "language_info": {
      "name": "python"
    }
  },
  "cells": [
    {
      "cell_type": "markdown",
      "source": [
        "# **3.6 Exercícios**\n",
        "\n",
        "\n",
        "**1. Armazene três números nas variáveis “a”, “b” e “c” e resolva as seguintes equações utilizando a linguagem de programação Python:**\n",
        "\n",
        "\n",
        "\n",
        "*    r1 = a + b - c\n",
        "*    r2 = a * (b + c)\n",
        "*    r3 = (a + b) / c\n",
        "*    r4 = (a + b + c) / 3"
      ],
      "metadata": {
        "id": "Y7obe_gRGmv7"
      }
    },
    {
      "cell_type": "code",
      "source": [
        "a = float(input(\"Insira o primeiro número: \"))\n",
        "b = float(input(\"Insira o segundo número: \"))\n",
        "c = float(input(\"Insira o terceiro número: \"))"
      ],
      "metadata": {
        "colab": {
          "base_uri": "https://localhost:8080/"
        },
        "id": "_GlJSJgrHYNM",
        "outputId": "c33f4737-b5f2-4a87-8787-8b68ef224e98"
      },
      "execution_count": null,
      "outputs": [
        {
          "name": "stdout",
          "output_type": "stream",
          "text": [
            "Insira o primeiro número: 1\n",
            "Insira o segundo número: 2\n",
            "Insira o terceiro número: 3\n"
          ]
        }
      ]
    },
    {
      "cell_type": "code",
      "source": [
        "r1 = a + b - c\n",
        "r2 = a * (b + c)\n",
        "r3 = (a + b) / c\n",
        "r4 = (a + b + c) / 3\n",
        "\n",
        "print(\"Confira os resultados das operações abaixo:\\n\")\n",
        "print(\"r1 = %.2f + %.2f - %.2f = %.2f\" % (a, b, c, r1))\n",
        "print(\"r2 = %.2f * (%.2f + %.2f) = %.2f\" % (a, b, c, r2))\n",
        "print(\"r3 = (%.2f + %.2f) / %.2f) = %.2f\" % (a, b, c, r3))\n",
        "print(\"r4 = (%.2f + %.2f + %.2f) / 3 = %.2f\" % (a, b, c, r4))"
      ],
      "metadata": {
        "colab": {
          "base_uri": "https://localhost:8080/"
        },
        "id": "dPwkT_XYIc79",
        "outputId": "49d2b1da-eaab-42da-e9ec-391da84134b9"
      },
      "execution_count": null,
      "outputs": [
        {
          "output_type": "stream",
          "name": "stdout",
          "text": [
            "Confira os resultados das operações abaixo:\n",
            "\n",
            "r1 = 1.00 + 2.00 - 3.00 = 0.00\n",
            "r2 = 1.00 * (2.00 + 3.00) = 5.00\n",
            "r3 = (1.00 + 2.00) / 3.00) = 1.00\n",
            "r4 = (1.00 + 2.00 + 3.00) / 3 = 2.00\n"
          ]
        }
      ]
    },
    {
      "cell_type": "markdown",
      "source": [
        "**2. Utilize os valores de n1 = 2, n2 = 3, n3 = -1 e n4 = 8 e verifique se as expressões lógicas a seguir resultam em True ou False.**\n",
        "\n",
        "a. n1 < n3\n",
        "\n",
        "b. n3 == n4\n",
        "\n",
        "c. n1 + n2 > n3\n",
        "\n",
        "d. n3 / n1 < n4\n",
        "\n",
        "e. n1 + n2 < 10 and n3 - n4 == n1\n",
        "\n",
        "f. n3 / n2 > 0 or n1 + n3 > n4"
      ],
      "metadata": {
        "id": "6Wj8cxeYPIKa"
      }
    },
    {
      "cell_type": "code",
      "source": [
        "n1 = 2\n",
        "n2 = 3\n",
        "n3 = -1\n",
        "n4 = 8\n",
        "\n",
        "a = n1 < n3\n",
        "b = n3 == n4\n",
        "c = n1 + n2 > n3\n",
        "d = n3 / n1 < n4\n",
        "e = n1 + n2 < 10 and n3 - n4 == n1\n",
        "f = n3 / n2 > 0 or n1 + n3 > n4\n",
        "\n",
        "\n",
        "print(\"Confira os resultados abaixo:\\n\")\n",
        "print(\"a) %s < %s --> \" % (n1, n3) + str(a))\n",
        "print(\"b) %s == %s --> \" % (n3, n4) + str(b))\n",
        "print(\"c) %s + %s > %s --> \" % (n1, n2, n3) + str(c))\n",
        "print(\"d) %s / %s < %s --> \" % (n3, n1, n4) + str(d))\n",
        "print(\"e) %s + %s < 10 and %s - %s == %s --> \" % (n1, n2, n3, n4, n1) + str(e))\n",
        "print(\"f) %s / %s > 0 or %s + %s > %s --> \" % (n3, n2, n1, n3, n4) + str(f))"
      ],
      "metadata": {
        "colab": {
          "base_uri": "https://localhost:8080/"
        },
        "id": "NNk7K8axPV8N",
        "outputId": "1083f436-27ce-4a7d-a4e5-ebd432593047"
      },
      "execution_count": null,
      "outputs": [
        {
          "output_type": "stream",
          "name": "stdout",
          "text": [
            "Confira os resultados abaixo:\n",
            "\n",
            "a) 2 < -1 --> False\n",
            "b) -1 == 8 --> False\n",
            "c) 2 + 3 > -1 --> True\n",
            "d) -1 / 2 < 8 --> True\n",
            "e) 2 + 3 < 10 and -1 - 8 == 2 --> False\n",
            "f) -1 / 3 > 0 or 2 + -1 > 8 --> False\n"
          ]
        }
      ]
    }
  ]
}